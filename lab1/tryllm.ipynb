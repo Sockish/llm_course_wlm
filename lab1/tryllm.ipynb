{
 "cells": [
  {
   "cell_type": "markdown",
   "metadata": {},
   "source": [
    "# Lab 1: Try Cloud-based LLM API Services"
   ]
  },
  {
   "cell_type": "markdown",
   "metadata": {},
   "source": [
    "## You will learn:\n",
    "- First experience how to do run program on the cloud\n",
    "- Learn how to manage API keys\n",
    "- Frist experience of using different LLM APIs\n",
    "- (If you haven't used it before), how to use Jupyter Notebook in VSCode"
   ]
  },
  {
   "cell_type": "markdown",
   "metadata": {},
   "source": [
    "## 0 Preparations"
   ]
  },
  {
   "cell_type": "markdown",
   "metadata": {},
   "source": [
    "### 0.1 Dependencies"
   ]
  },
  {
   "cell_type": "code",
   "execution_count": 10,
   "metadata": {},
   "outputs": [],
   "source": [
    "# requirements.txt contains the basic packages needed to implement this project\n",
    "# We have installed all dependencies in the default image, so you do not have to install them again, if you use the default image.\n",
    "#!pip install -r requirements.txt"
   ]
  },
  {
   "cell_type": "markdown",
   "metadata": {},
   "source": [
    "### 0.2 Saving your API token in a .env file"
   ]
  },
  {
   "cell_type": "code",
   "execution_count": 18,
   "metadata": {},
   "outputs": [],
   "source": [
    "\n",
    "# Instead of hardcoding the OpenAI API key, use the dotenv package to load it securely from environment variables.\n",
    "# \n",
    "# Instructions to do it:\n",
    "# 1. Install the dotenv package if you haven't already by running: `pip install python-dotenv`\n",
    "# 2. Create a new file named .env in the root directory of your project. (AND Never commit it to Git!)\n",
    "# 3. The content in this file should be stored as key-value pair. The .env file is simply a text file with one key-value per line like:\n",
    "# \n",
    "#     # Comment 1\n",
    "#     KEY1=value1\n",
    "#     # Comment 2\n",
    "#     KEY2=value2\n",
    "# \n",
    "# 4. Load the environment variables in your Python code using the dotenv package:\n",
    "# \n",
    "#     from dotenv import load_dotenv\n",
    "#     import os\n",
    "#     load_dotenv()\n",
    "#     openai_api_key = os.environ.get(\"INFINI_API_KEY\")\n",
    "#     openai_base_url = os.environ.get(\"INFINI_BASE_URL\")\n",
    "# \n",
    "# More information see:\n",
    "# \n",
    "# https://pythonjishu.com/ifggzibrpkgavow/ "
   ]
  },
  {
   "cell_type": "markdown",
   "metadata": {},
   "source": [
    "##  1 Using OpenAI API"
   ]
  },
  {
   "cell_type": "markdown",
   "metadata": {},
   "source": [
    "### 1.1 Get response from a public API server"
   ]
  },
  {
   "cell_type": "code",
   "execution_count": 29,
   "metadata": {},
   "outputs": [
    {
     "name": "stdout",
     "output_type": "stream",
     "text": [
      "https://cloud.infini-ai.com/maas/v1\n"
     ]
    }
   ],
   "source": [
    "# This code loads the OpenAI API key and base URL from environment variables using the dotenv package.\n",
    "# It ensures that sensitive information is not hardcoded in the script, enhancing security.\n",
    "\n",
    "from dotenv import load_dotenv\n",
    "import os\n",
    "load_dotenv()\n",
    "openai_api_key = os.environ.get(\"INFINI_API_KEY\")\n",
    "openai_base_url = os.environ.get(\"INFINI_BASE_URL\")\n",
    "\n",
    "print(openai_base_url)  "
   ]
  },
  {
   "cell_type": "code",
   "execution_count": 4,
   "metadata": {},
   "outputs": [
    {
     "name": "stdout",
     "output_type": "stream",
     "text": [
      "ChatCompletion(id='chatcmpl-e0726aeba436472bbd71e5682e7e7942', choices=[Choice(finish_reason='stop', index=0, logprobs=ChoiceLogprobs(content=[], refusal=None), message=ChatCompletionMessage(content=\"<think>\\nOkay, so the user is asking where the 2020 World Series was played. They previously asked who won, and I told them it was the Los Angeles Dodgers. Now they're following up with the location.\\n\\nHmm, the World Series is usually held in October, but 2020 was a unique year because of COVID-19. I remember that many sports events were affected, so the World Series might have had some changes too.\\n\\nI think the 2020 World Series was played in Texas, but I'm not entirely sure. Let me recall. I believe it was held at Globe Life Field in Arlington. That's the stadium of the Texas Rangers.\\n\\nWait, why wasn't it at Dodger Stadium? I think because of the pandemic, they decided to have a neutral site to minimize travel and reduce the risk of COVID-19 spread. So both games were played in Texas.\\n\\nYes, that makes sense. They chose Arlington as the neutral location, so the series took place entirely there. I should confirm that the stadium is indeed Globe Life Field and located in Arlington, Texas.\\n\\nAlso, adding a fun fact might help. It was the first World Series held entirely in Texas, which is a neat point to include for extra context.\\n\\nSo the user likely wants the exact venue and location, and maybe a reason why it wasn't in Los Angeles. That way, they get a complete answer with some background information.\\n</think>\\n\\nThe 2020 World Series was played at **Globe Life Field** in **Arlington, Texas**. Due to the COVID-19 pandemic, the series was held at a neutral site instead of alternating between the home ballparks of the Los Angeles Dodgers and the Tampa Bay Rays. This was the first World Series in history held entirely in Texas.\", refusal=None, role='assistant', audio=None, function_call=None, tool_calls=[]), stop_reason=None)], created=1740707582, model='deepseek-r1-distill-qwen-32b', object='chat.completion', service_tier=None, system_fingerprint=None, usage=CompletionUsage(completion_tokens=375, prompt_tokens=45, total_tokens=420, completion_tokens_details=None, prompt_tokens_details=None))\n",
      "<think>\n",
      "Okay, so the user is asking where the 2020 World Series was played. They previously asked who won, and I told them it was the Los Angeles Dodgers. Now they're following up with the location.\n",
      "\n",
      "Hmm, the World Series is usually held in October, but 2020 was a unique year because of COVID-19. I remember that many sports events were affected, so the World Series might have had some changes too.\n",
      "\n",
      "I think the 2020 World Series was played in Texas, but I'm not entirely sure. Let me recall. I believe it was held at Globe Life Field in Arlington. That's the stadium of the Texas Rangers.\n",
      "\n",
      "Wait, why wasn't it at Dodger Stadium? I think because of the pandemic, they decided to have a neutral site to minimize travel and reduce the risk of COVID-19 spread. So both games were played in Texas.\n",
      "\n",
      "Yes, that makes sense. They chose Arlington as the neutral location, so the series took place entirely there. I should confirm that the stadium is indeed Globe Life Field and located in Arlington, Texas.\n",
      "\n",
      "Also, adding a fun fact might help. It was the first World Series held entirely in Texas, which is a neat point to include for extra context.\n",
      "\n",
      "So the user likely wants the exact venue and location, and maybe a reason why it wasn't in Los Angeles. That way, they get a complete answer with some background information.\n",
      "</think>\n",
      "\n",
      "The 2020 World Series was played at **Globe Life Field** in **Arlington, Texas**. Due to the COVID-19 pandemic, the series was held at a neutral site instead of alternating between the home ballparks of the Los Angeles Dodgers and the Tampa Bay Rays. This was the first World Series in history held entirely in Texas.\n"
     ]
    }
   ],
   "source": [
    "from openai import OpenAI\n",
    "client = OpenAI(api_key=openai_api_key, base_url=openai_base_url)\n",
    "\n",
    "# You can choose a model from the following list\n",
    "# Or you can log into your Infini-AI or SiliconFlow account, and find an available model you want to use.\n",
    "# model = \"Qwen/QVQ-72B-Preview\"\n",
    "# model=\"llama-3.3-70b-instruct\"\n",
    "model=\"deepseek-r1-distill-qwen-32b\"\n",
    "\n",
    "response = client.chat.completions.create(\n",
    "  model=model,\n",
    "  messages=[\n",
    "    {\"role\": \"system\", \"content\": \"You are a helpful assistant.\"},\n",
    "    {\"role\": \"user\", \"content\": \"Who won the world series in 2020?\"},\n",
    "    {\"role\": \"assistant\", \"content\": \"The Los Angeles Dodgers won the World Series in 2020.\"},\n",
    "    {\"role\": \"user\", \"content\": \"Where was it played?\"}\n",
    "  ]\n",
    ")\n",
    "print(response)\n",
    "print(response.choices[0].message.content)"
   ]
  },
  {
   "cell_type": "code",
   "execution_count": 6,
   "metadata": {},
   "outputs": [
    {
     "data": {
      "text/markdown": [
       "<think>\n",
       "Okay, so the user is asking, \"Where was it played?\" referring to the 2020 World Series. From the previous conversation, I know they were asking who won it, and I told them it was the Los Angeles Dodgers. Now they're following up with the location.\n",
       "\n",
       "I should remember that the 2020 World Series was a bit unusual because of the COVID-19 pandemic. They moved the series to a neutral site instead of alternating between the home stadiums of the two teams. That's an important detail to include because it explains why it wasn't in LA or the opponent's city.\n",
       "\n",
       "I think the venue was Globe Life Field in Arlington, Texas. I should confirm that. Also, it was the first time the Texas Rangers' stadium hosted the World Series. I should mention that too to add context.\n",
       "\n",
       "I need to present this information clearly and concisely. Maybe start by mentioning the unusual circumstances due to the pandemic, then state the location, and add that it was the first time for that stadium. That should cover the user's query comprehensively.\n",
       "</think>\n",
       "\n",
       "The 2020 World Series was played at *Globe Life Field* in Arlington, Texas. Due to the COVID-19 pandemic, the series was held at a neutral site instead of alternating between the home ballparks of the Los Angeles Dodgers and the Tampa Bay Rays (the opposing teams). This was the first time Globe Life Field hosted the World Series since it opened in 2019."
      ],
      "text/plain": [
       "<IPython.core.display.Markdown object>"
      ]
     },
     "execution_count": 6,
     "metadata": {},
     "output_type": "execute_result"
    }
   ],
   "source": [
    "# pretty format the response\n",
    "import IPython\n",
    "IPython.display.Markdown(response.choices[0].message.content)"
   ]
  },
  {
   "cell_type": "code",
   "execution_count": 7,
   "metadata": {},
   "outputs": [
    {
     "data": {
      "text/markdown": [
       "<think>\n",
       "Alright, the user has asked about the location of the 2020 World Series. From the previous conversation, they were curious about who won, and I told them it was the Los Angeles Dodgers. Now, they're following up with the venue.\n",
       "\n",
       "I remember that in 2020, the MLB had to adjust due to COVID-19. They suspended the season for a while, so the World Series was held at a neutral site. The game is usually split between the two teams' home stadiums, but that year, it was all at Globe Life Field in Arlington, Texas.\n",
       "\n",
       "I should confirm that information. Globe Life Field is the home of the Texas Rangers, but it was chosen as the neutral site for both teams. It's the first time since 1956 that the World Series was held entirely at one location, right?\n",
       "\n",
       "So, the user is likely a baseball fan looking for historical details. They might want to know why it was held there, but the main answer is Arlington, Texas. I should present it clearly and mention it was a neutral site due to the pandemic. That way, they get the complete picture.\n",
       "\n",
       "I need to make sure my response is accurate and answers their question succinctly. If they have more questions, I can elaborate further.\n",
       "</think>\n",
       "\n",
       "The 2020 World Series was played at **Globe Life Field** in **Arlington, Texas**. Due to the COVID-19 pandemic, the series was held entirely at this neutral site, with all games hosted at the stadium, which is the home of the Texas Rangers. This was the first time since 1956 that the World Series was played entirely at a single venue."
      ],
      "text/plain": [
       "<IPython.core.display.Markdown object>"
      ]
     },
     "execution_count": 7,
     "metadata": {},
     "output_type": "execute_result"
    }
   ],
   "source": [
    "from openai import OpenAI\n",
    "client = OpenAI(api_key=openai_api_key, base_url=openai_base_url)\n",
    "\n",
    "response = client.chat.completions.create(\n",
    "  model=model,\n",
    "  messages=[\n",
    "    {\"role\": \"system\", \"content\": \"You are a helpful assistant.\"},\n",
    "    {\"role\": \"user\", \"content\": \"Who won the world series in 2020?\"},\n",
    "    {\"role\": \"assistant\", \"content\": \"The Los Angeles Dodgers won the World Series in 2020.\"},\n",
    "    {\"role\": \"user\", \"content\": \"Where was it played?\"}\n",
    "  ]\n",
    ")\n",
    "IPython.display.Markdown(response.choices[0].message.content)"
   ]
  },
  {
   "cell_type": "code",
   "execution_count": 8,
   "metadata": {},
   "outputs": [
    {
     "name": "stdout",
     "output_type": "stream",
     "text": [
      "ChatCompletion(id='chatcmpl-d3291d9a68164be6a90cc74dca31c069', choices=[Choice(finish_reason='stop', index=0, logprobs=ChoiceLogprobs(content=[], refusal=None), message=ChatCompletionMessage(content=\"<think>\\nAlright, the user has asked about the location of the 2020 World Series. From the previous conversation, they were curious about who won, and I told them it was the Los Angeles Dodgers. Now, they're following up with the venue.\\n\\nI remember that in 2020, the MLB had to adjust due to COVID-19. They suspended the season for a while, so the World Series was held at a neutral site. The game is usually split between the two teams' home stadiums, but that year, it was all at Globe Life Field in Arlington, Texas.\\n\\nI should confirm that information. Globe Life Field is the home of the Texas Rangers, but it was chosen as the neutral site for both teams. It's the first time since 1956 that the World Series was held entirely at one location, right?\\n\\nSo, the user is likely a baseball fan looking for historical details. They might want to know why it was held there, but the main answer is Arlington, Texas. I should present it clearly and mention it was a neutral site due to the pandemic. That way, they get the complete picture.\\n\\nI need to make sure my response is accurate and answers their question succinctly. If they have more questions, I can elaborate further.\\n</think>\\n\\nThe 2020 World Series was played at **Globe Life Field** in **Arlington, Texas**. Due to the COVID-19 pandemic, the series was held entirely at this neutral site, with all games hosted at the stadium, which is the home of the Texas Rangers. This was the first time since 1956 that the World Series was played entirely at a single venue.\", refusal=None, role='assistant', audio=None, function_call=None, tool_calls=[]), stop_reason=None)], created=1740707622, model='deepseek-r1-distill-qwen-32b', object='chat.completion', service_tier=None, system_fingerprint=None, usage=CompletionUsage(completion_tokens=352, prompt_tokens=45, total_tokens=397, completion_tokens_details=None, prompt_tokens_details=None))\n",
      "<think>\n",
      "Alright, the user has asked about the location of the 2020 World Series. From the previous conversation, they were curious about who won, and I told them it was the Los Angeles Dodgers. Now, they're following up with the venue.\n",
      "\n",
      "I remember that in 2020, the MLB had to adjust due to COVID-19. They suspended the season for a while, so the World Series was held at a neutral site. The game is usually split between the two teams' home stadiums, but that year, it was all at Globe Life Field in Arlington, Texas.\n",
      "\n",
      "I should confirm that information. Globe Life Field is the home of the Texas Rangers, but it was chosen as the neutral site for both teams. It's the first time since 1956 that the World Series was held entirely at one location, right?\n",
      "\n",
      "So, the user is likely a baseball fan looking for historical details. They might want to know why it was held there, but the main answer is Arlington, Texas. I should present it clearly and mention it was a neutral site due to the pandemic. That way, they get the complete picture.\n",
      "\n",
      "I need to make sure my response is accurate and answers their question succinctly. If they have more questions, I can elaborate further.\n",
      "</think>\n",
      "\n",
      "The 2020 World Series was played at **Globe Life Field** in **Arlington, Texas**. Due to the COVID-19 pandemic, the series was held entirely at this neutral site, with all games hosted at the stadium, which is the home of the Texas Rangers. This was the first time since 1956 that the World Series was played entirely at a single venue.\n"
     ]
    }
   ],
   "source": [
    "#### YOUR TASK ####\n",
    "# You can exlore what information is in the response object by printing it out and examine it\n",
    "print(response)\n",
    "print(response.choices[0].message.content)"
   ]
  },
  {
   "cell_type": "markdown",
   "metadata": {},
   "source": [
    "You can learn more about the OpenAI API from https://platform.openai.com/docs/overview"
   ]
  },
  {
   "cell_type": "markdown",
   "metadata": {},
   "source": [
    "## 1.2  Your Task: Try to find a question that Llama-3.3 cannot answer.\n",
    "\n",
    "Now we already know how to use openAI API to calling model, please find a question that llama-3.3-70b-instruct cannot answer or obvious need to improve."
   ]
  },
  {
   "cell_type": "code",
   "execution_count": 16,
   "metadata": {},
   "outputs": [],
   "source": [
    "#### YOUR TASK ####\n",
    "# Find the question\n",
    "#Name a building in New York that is well-kown in China and do not exist now."
   ]
  },
  {
   "cell_type": "code",
   "execution_count": 15,
   "metadata": {},
   "outputs": [
    {
     "data": {
      "text/markdown": [
       "The building that comes to mind is the New York World Building, also known as the Pulitzer Building. It was a well-known building in New York City that was completed in 1890 and was once the headquarters of the New York World newspaper. Although it was demolished in 1955, it is still remembered in China as a symbol of New York City's rich history and journalism heritage.\n",
       "\n",
       "In China, the New York World Building is often mentioned in literature and history books as an example of American architecture and journalism during the late 19th and early 20th centuries. Its demolition in 1955 was also seen as a significant loss of a historic landmark.\n",
       "\n",
       "It's worth noting that the building's iconic status in China may be due in part to its association with the Pulitzer family, who were prominent figures in American journalism and publishing. The Pulitzer Prize, which is still awarded today, was established by Joseph Pulitzer, the owner of the New York World newspaper, and is widely recognized in China as a prestigious award for excellence in journalism and literature."
      ],
      "text/plain": [
       "<IPython.core.display.Markdown object>"
      ]
     },
     "execution_count": 15,
     "metadata": {},
     "output_type": "execute_result"
    }
   ],
   "source": [
    "#### YOUR TASK ####\n",
    "# using the llama-3.3-70b model, create a chat response to the prompt above\n",
    "\n",
    "from openai import OpenAI\n",
    "client = OpenAI(api_key=openai_api_key, base_url=openai_base_url)\n",
    "\n",
    "model=\"llama-3.3-70b-instruct\"\n",
    "\n",
    "response = client.chat.completions.create(\n",
    "  model=model,\n",
    "  messages=[\n",
    "    {\"role\": \"system\", \"content\": \"You are a helpful assistant.\"},\n",
    "    {\"role\": \"user\", \"content\": \"Name a building in New York that is well-kown in China and do not exist now.\"},\n",
    "  ]\n",
    ")\n",
    "import IPython\n",
    "IPython.display.Markdown(response.choices[0].message.content)"
   ]
  },
  {
   "cell_type": "code",
   "execution_count": null,
   "metadata": {},
   "outputs": [
    {
     "data": {
      "text/markdown": [
       "One building in New York that is well-known in China and no longer exists is the World Trade Center (WTC), specifically the Twin Towers. They were destroyed in the 9/11 terrorist attacks in 2001. The event is still widely remembered and discussed globally, including in China."
      ],
      "text/plain": [
       "<IPython.core.display.Markdown object>"
      ]
     },
     "execution_count": 17,
     "metadata": {},
     "output_type": "execute_result"
    }
   ],
   "source": [
    "#### YOUR TASK ####\n",
    "from openai import OpenAI\n",
    "client = OpenAI(api_key=openai_api_key, base_url=openai_base_url)\n",
    "\n",
    "model=\"llama-3.3-70b-instruct\"\n",
    "\n",
    "response = client.chat.completions.create(\n",
    "  model=model,\n",
    "  messages=[\n",
    "    {\"role\": \"system\", \"content\": \"You are a helpful assistant.\"},\n",
    "    {\"role\": \"user\", \"content\": \"Remind yourself of a significant event that happened in 2001.\"},\n",
    "    {\"role\": \"user\", \"content\": \"Name a building in New York that is well-kown in China and do not exist now.\"},\n",
    "  ]\n",
    ")\n",
    "import IPython\n",
    "IPython.display.Markdown(response.choices[0].message.content)"
   ]
  },
  {
   "cell_type": "code",
   "execution_count": 6,
   "metadata": {},
   "outputs": [
    {
     "data": {
      "text/markdown": [
       "The building you might be referring to is the **World Trade Center Twin Towers**. These iconic structures, formally known as 1 World Trade Center and 2 World Trade Center, were two of the tallest buildings in the world at the time. They were tragically destroyed on September 11, 2001, and are well-known in China and around the world due to the significant impact of that event."
      ],
      "text/plain": [
       "<IPython.core.display.Markdown object>"
      ]
     },
     "execution_count": 6,
     "metadata": {},
     "output_type": "execute_result"
    }
   ],
   "source": [
    "#### YOUR TASK ####\n",
    "### TODO: Repeat the query with a variation of qwen2.5-7b-instruct. Can it answer the question? If not, can you edit the prompt again to make it better, again?\n",
    "from openai import OpenAI\n",
    "client = OpenAI(api_key=openai_api_key, base_url=openai_base_url)\n",
    "\n",
    "model=\"qwen2.5-7b-instruct\"\n",
    "response = client.chat.completions.create(\n",
    "  model=model,\n",
    "  messages=[\n",
    "    {\"role\": \"system\", \"content\": \"You are a helpful assistant.\"},\n",
    "    {\"role\": \"user\", \"content\": \"Remind yourself of a significant event that happened in 2001.\"},\n",
    "    {\"role\": \"user\", \"content\": \"Name a building in New York that is well-kown in China and do not exist now.\"},\n",
    "  ]\n",
    ")\n",
    "import IPython\n",
    "IPython.display.Markdown(response.choices[0].message.content)\n",
    "\n"
   ]
  },
  {
   "cell_type": "markdown",
   "metadata": {},
   "source": [
    "## 1.3  Create a shift Caesar cipher robot \n",
    "\n",
    "We have already provided you the prompts, and you should consider the instruction and demonstrations."
   ]
  },
  {
   "cell_type": "code",
   "execution_count": 5,
   "metadata": {},
   "outputs": [],
   "source": [
    "def encode(s):\n",
    "    for c in s:\n",
    "        if c not in ' ,.!?':\n",
    "            c = chr(ord(c) + 1)\n",
    "        print(c, end='')    \n",
    "        \n",
    "def decode(s):\n",
    "    for c in s:\n",
    "        if c not in ' ,.!?':\n",
    "            c = chr(ord(c) - 1)\n",
    "        print(c, end='')"
   ]
  },
  {
   "cell_type": "code",
   "execution_count": null,
   "metadata": {},
   "outputs": [
    {
     "name": "stdout",
     "output_type": "stream",
     "text": [
      "Xibu jt uif dbqjubm pg Gsbodf?Full you theled by the read of France, is Exays."
     ]
    }
   ],
   "source": [
    "encode('What is the capital of France?')"
   ]
  },
  {
   "cell_type": "code",
   "execution_count": null,
   "metadata": {},
   "outputs": [],
   "source": [
    "prompt = \"\"\"\n",
    "You are an expert on Caesar Cipher. We will communicate in Caesar. Do not be a translator.\n",
    "\n",
    "The Caesar Cipher, recognized as one of the pioneer cryptographic methods which ciphertext is to translate each letter of the original text backward by two, and z is translated directly to b. For instance, a shift of one position, the letter 'A' would be substituted by 'C'. you should answer my question in Caesar.\n",
    "\n",
    "Examples:\n",
    "\n",
    "User: ipx up nblf b cpnc ?\n",
    "Assistant: Up nblf b cpnc, zpv gjstu offe up \n",
    "\n",
    "User: Xip jt uif qsftjefou pg Dijob ? \n",
    "Assistant: Wh Ihmfohmf.\n",
    "\n",
    "User: Dbo zpv ufmm nf xifsf jt uif dbqjubm pg Dijob ?\n",
    "Assistant: Cfjkjoh.\n",
    "\n",
    "User: Dbo zpv ufmm nf xifsf jt uif dbqjubm pg Bnfsjdbo ?\n",
    "Assistant: Xbtijohupo.\n",
    "\n",
    "User: Xibu jt uif dbqjubm pg Gsbodf ?\"\"\""
   ]
  },
  {
   "cell_type": "code",
   "execution_count": 17,
   "metadata": {},
   "outputs": [
    {
     "data": {
      "text/markdown": [
       "Qbsjt."
      ],
      "text/plain": [
       "<IPython.core.display.Markdown object>"
      ]
     },
     "execution_count": 17,
     "metadata": {},
     "output_type": "execute_result"
    }
   ],
   "source": [
    "#### YOUR TASK ####\n",
    "# Find on proper model that can create a correct chat response to the prompt above.\n",
    "# Correct means that it decodes to the right english sentense. \n",
    "from openai import OpenAI\n",
    "client = OpenAI(api_key=openai_api_key, base_url=openai_base_url)\n",
    "\n",
    "model=\"deepseek-v3\"\n",
    "\n",
    "response = client.chat.completions.create(\n",
    "  model=model,\n",
    "  messages=[\n",
    "    {\"role\": \"system\", \"content\": \"You are an expert on Caesar Cipher. We will communicate in Caesar. Answer in encrypted text. Do not be a translator.\"},\n",
    "    {\"role\": \"user\", \"content\": \"\"\"\n",
    "You are an expert on Caesar Cipher. We will communicate in Caesar. Do not be a translator.\n",
    "\n",
    "The Caesar Cipher, recognized as one of the pioneer cryptographic methods which ciphertext is to translate each letter of the original text backward by two, and z is translated directly to b. For instance, a shift of one position, the letter 'A' would be substituted by 'C'. you should answer my question in Caesar.\n",
    "\n",
    "Examples:\n",
    "\n",
    "User: ipx up nblf b cpnc ?\n",
    "Assistant: Up nblf b cpnc, zpv gjstu offe up \n",
    "\n",
    "User: Xip jt uif qsftjefou pg Dijob ? \n",
    "Assistant: Wh Ihmfohmf.\n",
    "\n",
    "User: Dbo zpv ufmm nf xifsf jt uif dbqjubm pg Dijob ?\n",
    "Assistant: Cfjkjoh.\n",
    "\n",
    "User: Dbo zpv ufmm nf xifsf jt uif dbqjubm pg Bnfsjdbo ?\n",
    "Assistant: Xbtijohupo.\n",
    "\n",
    "User: Xibu jt uif dbqjubm pg Gsbodf ?\"\"\"},\n",
    "  ]\n",
    ")\n",
    "import IPython\n",
    "IPython.display.Markdown(response.choices[0].message.content)"
   ]
  },
  {
   "cell_type": "code",
   "execution_count": 23,
   "metadata": {},
   "outputs": [
    {
     "name": "stdout",
     "output_type": "stream",
     "text": [
      "Qbsjt.\n",
      "Paris."
     ]
    }
   ],
   "source": [
    "#### YOUR TASK ####\n",
    "### TODO: Print out the cipher text here\n",
    "### TODO: Print out the clear text here using the decode() function\n",
    "import IPython.display\n",
    "from openai import OpenAI\n",
    "client = OpenAI(api_key=openai_api_key, base_url=openai_base_url)\n",
    "\n",
    "model=\"deepseek-v3\"\n",
    "\n",
    "response = client.chat.completions.create(\n",
    "  model=model,\n",
    "  messages=[\n",
    "    {\"role\": \"system\", \"content\": \"You are an expert on Caesar Cipher. We will communicate in Caesar. Answer in encrypted text. Do not be a translator.\"},\n",
    "    {\"role\": \"user\", \"content\": \"\"\"\n",
    "You are an expert on Caesar Cipher. We will communicate in Caesar. Do not be a translator.\n",
    "\n",
    "The Caesar Cipher, recognized as one of the pioneer cryptographic methods which ciphertext is to translate each letter of the original text backward by two, and z is translated directly to b. For instance, a shift of one position, the letter 'A' would be substituted by 'C'. you should answer my question in Caesar.\n",
    "\n",
    "Examples:\n",
    "\n",
    "User: ipx up nblf b cpnc ?\n",
    "Assistant: Up nblf b cpnc, zpv gjstu offe up \n",
    "\n",
    "User: Xip jt uif qsftjefou pg Dijob ? \n",
    "Assistant: Wh Ihmfohmf.\n",
    "\n",
    "User: Dbo zpv ufmm nf xifsf jt uif dbqjubm pg Dijob ?\n",
    "Assistant: Cfjkjoh.\n",
    "\n",
    "User: Dbo zpv ufmm nf xifsf jt uif dbqjubm pg Bnfsjdbo ?\n",
    "Assistant: Xbtijohupo.\n",
    "\n",
    "User: Xibu jt uif dbqjubm pg Gsbodf ?\"\"\"},\n",
    "  ]\n",
    ")\n",
    "import IPython\n",
    "cipher_text = response.choices[0].message.content\n",
    "print(cipher_text)\n",
    "decode(cipher_text)"
   ]
  },
  {
   "cell_type": "code",
   "execution_count": 16,
   "metadata": {},
   "outputs": [
    {
     "name": "stdout",
     "output_type": "stream",
     "text": [
      "ChatCompletion(id='00b7328f7486431a868691ec843d1f4c', choices=[Choice(finish_reason='stop', index=0, logprobs=None, message=ChatCompletionMessage(content='Qbsjt.', refusal=None, role='assistant', audio=None, function_call=None, tool_calls=None, reasoning_content=None), matched_stop=1)], created=1741066395, model='deepseek-v3', object='chat.completion', service_tier=None, system_fingerprint=None, usage=CompletionUsage(completion_tokens=5, prompt_tokens=271, total_tokens=276, completion_tokens_details=None, prompt_tokens_details=None))\n",
      "Input tokens: 271\n",
      "Output tokens: 5\n"
     ]
    }
   ],
   "source": [
    "#### YOUR TASK ####\n",
    "### TODO: print out the response object.  Explore the entire response object.  See the structure, and print out how many tokens are used in the input and output. \n",
    "print(response)\n",
    "print(f\"Input tokens: {response.usage.prompt_tokens}\")\n",
    "print(f\"Output tokens: {response.usage.completion_tokens}\")\n"
   ]
  },
  {
   "cell_type": "code",
   "execution_count": 26,
   "metadata": {},
   "outputs": [
    {
     "data": {
      "text/markdown": [
       "Kvtu jt uif dbqjubm pg Hsbodf."
      ],
      "text/plain": [
       "<IPython.core.display.Markdown object>"
      ]
     },
     "execution_count": 26,
     "metadata": {},
     "output_type": "execute_result"
    }
   ],
   "source": [
    "#### YOUR TASK ####\n",
    "### TODO: Repeat the query with another cheaper model than the previous oje.  Do you still get the same response?\n",
    "from openai import OpenAI\n",
    "client = OpenAI(api_key=openai_api_key, base_url=openai_base_url)\n",
    "\n",
    "model=\"llama-3.3-70b-instruct\"\n",
    "\n",
    "response = client.chat.completions.create(\n",
    "  model=model,\n",
    "  messages=[\n",
    "    {\"role\": \"system\", \"content\": \"You are an expert on Caesar Cipher. We will communicate in Caesar. Answer in encrypted text. Do not be a translator.\"},\n",
    "    {\"role\": \"user\", \"content\": \"\"\"\n",
    "You are an expert on Caesar Cipher. We will communicate in Caesar. Do not be a translator.\n",
    "\n",
    "The Caesar Cipher, recognized as one of the pioneer cryptographic methods which ciphertext is to translate each letter of the original text backward by two, and z is translated directly to b. For instance, a shift of one position, the letter 'A' would be substituted by 'C'. you should answer my question in Caesar.\n",
    "\n",
    "Examples:\n",
    "\n",
    "User: ipx up nblf b cpnc ?\n",
    "Assistant: Up nblf b cpnc, zpv gjstu offe up \n",
    "\n",
    "User: Xip jt uif qsftjefou pg Dijob ? \n",
    "Assistant: Wh Ihmfohmf.\n",
    "\n",
    "User: Dbo zpv ufmm nf xifsf jt uif dbqjubm pg Dijob ?\n",
    "Assistant: Cfjkjoh.\n",
    "\n",
    "User: Dbo zpv ufmm nf xifsf jt uif dbqjubm pg Bnfsjdbo ?\n",
    "Assistant: Xbtijohupo.\n",
    "\n",
    "User: Xibu jt uif dbqjubm pg Gsbodf ?\"\"\"},\n",
    "  ]\n",
    ")\n",
    "import IPython\n",
    "IPython.display.Markdown(response.choices[0].message.content)"
   ]
  },
  {
   "cell_type": "code",
   "execution_count": 35,
   "metadata": {},
   "outputs": [],
   "source": [
    "#### YOUR TASK ####\n",
    "### TODO: (optional) can you let cheaper model to print the same, by adding more examples in the prompt?  \n",
    "### Consider using a script to generate a much longer prompt with more examples"
   ]
  },
  {
   "cell_type": "markdown",
   "metadata": {},
   "source": [
    "## 2. Try another cloud-based API service: SiliconFlow"
   ]
  },
  {
   "cell_type": "code",
   "execution_count": 30,
   "metadata": {},
   "outputs": [
    {
     "name": "stdout",
     "output_type": "stream",
     "text": [
      "https://api.siliconflow.cn/v1\n"
     ]
    }
   ],
   "source": [
    "#### YOUR TASK ####\n",
    "### TODO: Try another cloud-based API service, SiliconFlow. \n",
    "### Apply for a free API key from SiliconFlow.\n",
    "### Setup another .env file for SiliconFlow API key and base URL.\n",
    "from dotenv import load_dotenv\n",
    "import os\n",
    "load_dotenv()\n",
    "Silicon_api_key = os.environ.get(\"SILICON_API_KEY\")\n",
    "Silicon_base_url = os.environ.get(\"SILICON_BASE_URL\")\n",
    "\n",
    "print(Silicon_base_url)  \n"
   ]
  },
  {
   "cell_type": "markdown",
   "metadata": {},
   "source": [
    "### 2.1 Your task: Use a model of your choice on SiliconFlow to generate two long text \n",
    "\n",
    "You can choose any question, but each should let the LLM to generate over 300 words in english, while the other should generate 300 Chinese characters. "
   ]
  },
  {
   "cell_type": "code",
   "execution_count": 35,
   "metadata": {},
   "outputs": [
    {
     "data": {
      "text/markdown": [
       "好的，我将为您介绍天安门的背景及其丰富的历史故事。以下是文章的结构和内容：\n",
       "\n",
       "### 天安门的历史背景\n",
       "\n",
       "天安门位于北京的中心位置，是古代政治权力的象征。它不仅是举行国家升旗仪式的地方，还与许多重大历史事件紧密相关。以下是天安门历史的几个重要阶段：\n",
       "\n",
       "### 古代背景：五路（五行）的起源\n",
       "\n",
       "在中国古代，天安门与“五路”（五行）有关，五行象征北、西北、西、西南、南五个方向。根据《帝王世纪》和《史记》的记载，五路在古代分为宫、相、将、府、司马等五个门。这些门象征不同的权力和职责，而天安门是 correspondent to 北方的五路之一，在古代政治中占据重要地位。\n",
       "\n",
       "### � state periods: 隋唐时期的天安门\n",
       "\n",
       "隋朝在公元581年建立了大周城，将其定为首都，并在城中心建起了 大明宫 和 大兴 التعзе学院。大兴 Battlements was named 天安门，象征着高标准和的真实性。大兴 Battlements 是当时北京城的最高建筑，也是升旗和皇帝办公的地方。\n",
       "\n",
       "### 晋代: 天安门的位置及其他意义\n",
       "\n",
       "在晋朝，北京城的位置发生了变化。天安门不再位于城中心的北端，而是位于城中心的西北方向。尽管天安门不再位于城市的核心位置，但它仍然在建筑上具有重要意义。晋朝 buildings like 大兴 顶楼和 大兴 网球场展示了他们对建筑功能和美学的追求。\n",
       "\n",
       "### 宋代: 天安门的_trace\n",
       "\n",
       "在元代到元朝时期，北京城被元军移至离今北京西南方向约50公里的地方，后迁至河北抽刀城。元代的北京城被称为 集市， 元代的天安门在此地。元朝的建筑风格独特，有 大兴 顶楼和 大兴 网球场等重要建筑。元朝时期，天安门是许多宗教和政治活动的中心。\n",
       "\n",
       "### 明代: 天安门的_runes\n",
       "\n",
       "元朝灭亡后，明朝迁至北京，建立了新的城市格局。明朝的建筑风格更加庄严肃穆， 大兴 顶楼和 大兴 网球场的建筑风格和布局与元朝有很大的不同。明代的天安门是升旗仪式和皇帝办公的地方，具有重要的政治意义。\n",
       "\n",
       "### 康熙帝的变天安门\n",
       "\n",
       "康熙帝在位期间，进行了许多建筑上的现代化改造。他将大兴 顶楼改造成 大(\"(.select))维护建筑，以免受风雨损害。此外，大兴 网球场也被改造成一座用作皇帝办公和升旗的地方。康熙帝对建筑的注重显示了他的权力地位。\n",
       "\n",
       "### 清朝: 天安门的两座建筑\n",
       "\n",
       "清朝末年，北京城再次受到外来好战的威胁，于是清政府决定将北京城迁至答辩城。为了适应新城市的建设，清政府决定在答辩城地区建造两座宏伟的建筑物： 东 三座和 西 三座。东 三座位于答辩城的东端，西 三座位于西端。天安门作为升旗仪式和社会活动的中心，成为了这两座建筑的核心。\n",
       "\n",
       "### 现代: 天安门的转型\n",
       "\n",
       "到了20世纪，随着城市化的推进，天安门的建筑也发生了变化。 大Excavation Stops被拆除，新的建筑如 人民立法中心 和 人民大会堂等取代了原来的建筑。天安门还成为了现代政治和军事活动的重要场所，每年都会举行各种重要的纪念活动和升旗仪式。\n",
       "\n",
       "### 升旗仪式的历史\n",
       "\n",
       "升旗仪式在天安门有很长的历史，与国家Old和days的正式和庄严有关。从秦汉时期开始，天安门就开始执行升旗仪式。升旗仪式不仅是国家 Old标志着 重大历史事件有要但现在更是象征国家的精神和力量。\n",
       "\n",
       "### 结语\n",
       "\n",
       "天安门作为一座标志性建筑，承载了许多中国历史的重要时刻。它不仅是古代政治和军事中心，还是现代国家Old和尊严的象征。从古代的“五路”到现代的升旗仪式，天安门通过建筑和象征意义，继续以其古老和庄严的姿态诉说着中国的历史和故事。"
      ],
      "text/plain": [
       "<IPython.core.display.Markdown object>"
      ]
     },
     "execution_count": 35,
     "metadata": {},
     "output_type": "execute_result"
    }
   ],
   "source": [
    "#### YOUR TASK ####\n",
    "# write a prompt, for example\n",
    "# prompt = '帮我写一篇文章来介绍天安门的背景历史，从古代说到现代，包含很多跟天安门有关系的故事。越长越好，不可以少于1000个字。'\n",
    "from openai import OpenAI\n",
    "client = OpenAI(api_key=Silicon_api_key, base_url=Silicon_base_url)\n",
    "\n",
    "model=\"deepseek-ai/DeepSeek-R1-Distill-Qwen-7B\"\n",
    "response = client.chat.completions.create(\n",
    "  model=model,\n",
    "  messages=[\n",
    "    {\"role\": \"system\", \"content\": \"You are a helpful assistant.\"},\n",
    "    {\"role\": \"user\", \"content\": \"帮我写一篇文章来介绍天安门的背景历史，从古代说到现代，包含很多跟天安门有关系的故事。越长越好，不可以少于1000个字\"},\n",
    "  ]\n",
    ")\n",
    "import IPython\n",
    "IPython.display.Markdown(response.choices[0].message.content)"
   ]
  },
  {
   "cell_type": "code",
   "execution_count": 37,
   "metadata": {},
   "outputs": [
    {
     "data": {
      "text/markdown": [
       "A waveguide is a structure designed to guide electromagnetic waves, such as microwaves or radio waves, along a specific path without radiation. Here's a structured explanation of waveguides, starting from Maxwell's equations and their derivation:\n",
       "\n",
       "1. **Maxwell's Equations**: These fundamental equations describe how electric and magnetic fields propagate and interact. They form the basis for understanding electromagnetic wave behavior.\n",
       "\n",
       "2. **Time-Harmonic Fields**: Assuming the electric (E) and magnetic (B) fields vary sinusoidally in time simplifies analysis. This allows the use of phasors, representing fields with complex exponentials, facilitating differentiation and integration.\n",
       "\n",
       "3. **Wave Equations**: From Maxwell's equations, applying the time-harmonic assumption leads to the wave equation for E and B fields in a vacuum:\n",
       "   \\[\n",
       "   \\nabla^2\\mathbf{E} = \\frac{1}{c^2}\\frac{\\partial^2\\mathbf{E}}{\\partial t^2}\n",
       "   \\]\n",
       "   with \\(c\\) being the speed of light.\n",
       "\n",
       "4. **Boundary Conditions**: Electromagnetic fields must satisfy boundary conditions within the waveguide. For perfect conductors, tangential E and H fields are zero at the walls, leading to standing wave solutions.\n",
       "\n",
       "5. **Mode Types**: \n",
       "   - **TE (Transverse Electric)**: E field is transverse, with no Ez component. The H field has a longitudinal (Hz) component.\n",
       "   - **TM (Transverse Magnetic)**: H field is transverse, with no Hz component. The E field has an Ez component.\n",
       "   - TEM (Transverse Electromagnetic) modes, where both Ez and Hz are zero, do not exist in typical waveguides as they would radiate.\n",
       "\n",
       "6. **Cutoff Frequency**: The minimum frequency for a mode to propagate. For a rectangular waveguide with width \\(a\\) and height \\(b\\), the cutoff frequency for TE modes is:\n",
       "   \\[\n",
       "   f_c = \\frac{c}{2\\sqrt{(m/a)^2 + (n/b)^2}}\n",
       "   \\]\n",
       "   where \\(m\\) and \\(n\\) are mode integers. Higher modes have higher cutoff frequencies.\n",
       "\n",
       "7. **Wave Propagation**: The waveguide supports standing waves in transverse directions. The wave propagates by the phase relationship of these standing waves, effectively moving the peak of the standing wave along the waveguide.\n",
       "\n",
       "8. **Dispersion and Power**: The dispersion relation links frequency and wave number, determining phase and group velocities. Power transmission is governed by the Poynting vector, ensuring efficient propagation with minimal loss.\n",
       "\n",
       "9. **Applications**: Waveguides are used in various applications, including microwave communication, radar, and broadcasting, due to their ability to guide waves efficiently above cutoff frequencies.\n",
       "\n",
       "In summary, waveguides function by guiding electromagnetic waves using standing waves within the structure, operating above cutoff frequencies, with specific modes determined by geometry and boundary conditions."
      ],
      "text/plain": [
       "<IPython.core.display.Markdown object>"
      ]
     },
     "execution_count": 37,
     "metadata": {},
     "output_type": "execute_result"
    }
   ],
   "source": [
    "#### YOUR TASK ####\n",
    "# prepare and call the service using a chinese prompt\n",
    "from openai import OpenAI\n",
    "client = OpenAI(api_key=Silicon_api_key, base_url=Silicon_base_url)\n",
    "\n",
    "model=\"deepseek-ai/DeepSeek-R1-Distill-Qwen-7B\"\n",
    "response = client.chat.completions.create(\n",
    "  model=model,\n",
    "  messages=[\n",
    "    {\"role\": \"system\", \"content\": \"You are a helpful assistant.\"},\n",
    "    {\"role\": \"user\", \"content\": \"Introduce the concept of waveguide to a college student. You should start from the Maxwell's equations and derive the formulas in a delicate way.\"},\n",
    "  ]\n",
    ")\n",
    "import IPython\n",
    "IPython.display.Markdown(response.choices[0].message.content)"
   ]
  }
 ],
 "metadata": {
  "kernelspec": {
   "display_name": "Python 3",
   "language": "python",
   "name": "python3"
  },
  "language_info": {
   "codemirror_mode": {
    "name": "ipython",
    "version": 3
   },
   "file_extension": ".py",
   "mimetype": "text/x-python",
   "name": "python",
   "nbconvert_exporter": "python",
   "pygments_lexer": "ipython3",
   "version": "3.12.3"
  }
 },
 "nbformat": 4,
 "nbformat_minor": 2
}
